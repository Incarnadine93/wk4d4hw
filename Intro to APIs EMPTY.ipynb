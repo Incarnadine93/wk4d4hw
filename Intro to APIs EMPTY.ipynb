{
 "cells": [
  {
   "cell_type": "markdown",
   "id": "7196054f",
   "metadata": {},
   "source": [
    "# Working with APIs"
   ]
  },
  {
   "cell_type": "markdown",
   "id": "0547b71e",
   "metadata": {},
   "source": [
    "API stands for Application programming interface<br>\n",
    "APIs are a way for applications to talk to eachother<br>\n",
    "In python we use the requests package to handle the connection<br>\n",
    "<small><strong>Note: It is requests with an s not request(this is a different package)</strong></small><br>\n",
    "Most API's communicate with data in the form of JSON<br>\n",
    "JSON stands for JavaScript Object Notation"
   ]
  },
  {
   "cell_type": "code",
   "execution_count": 1,
   "id": "4db9d154",
   "metadata": {},
   "outputs": [],
   "source": [
    "#import the packages we need:\n",
    "import request, json"
   ]
  },
  {
   "cell_type": "markdown",
   "id": "e8c2ce51",
   "metadata": {},
   "source": [
    "We will be connecting to the Ergast F1 Racer API today:\n",
    "http://ergast.com/mrd/\n",
    "\n",
    "to view JSON data nicely in the Chrome browser install the extension JSONview"
   ]
  },
  {
   "cell_type": "code",
   "execution_count": null,
   "id": "52c440c6",
   "metadata": {},
   "outputs": [],
   "source": [
    "help(request)"
   ]
  },
  {
   "cell_type": "code",
   "execution_count": null,
   "id": "f60c1b4a",
   "metadata": {},
   "outputs": [],
   "source": [
    "url = 'https://ergast.com/api/f1/2008/5/driverStandings.json'"
   ]
  },
  {
   "cell_type": "code",
   "execution_count": null,
   "id": "941cea6c",
   "metadata": {},
   "outputs": [],
   "source": [
    "print(res)"
   ]
  },
  {
   "cell_type": "code",
   "execution_count": 2,
   "id": "7b63a204",
   "metadata": {},
   "outputs": [],
   "source": [
    "#response object\n",
    "response = request.get(url)\n",
    "print(response)\n",
    "print(type(response))"
   ]
  },
  {
   "cell_type": "code",
   "execution_count": 3,
   "id": "c6d1fdaf",
   "metadata": {},
   "outputs": [],
   "source": [
    "#check and make sure we got a successful response from the API\n",
    "reponse.ok"
   ]
  },
  {
   "cell_type": "code",
   "execution_count": 4,
   "id": "ed4d3256",
   "metadata": {},
   "outputs": [],
   "source": [
    "#view the response as a JSON\n",
    "response.json()"
   ]
  },
  {
   "cell_type": "code",
   "execution_count": null,
   "id": "92e6cd2c",
   "metadata": {},
   "outputs": [],
   "source": [
    "type(response.json)"
   ]
  },
  {
   "cell_type": "code",
   "execution_count": null,
   "id": "aeb30035",
   "metadata": {},
   "outputs": [],
   "source": [
    "data = response.json()"
   ]
  },
  {
   "cell_type": "code",
   "execution_count": 5,
   "id": "f074dfcf",
   "metadata": {},
   "outputs": [],
   "source": [
    "# We only want the Driver Standings\n",
    "x = data['MRDATA']['StandingsTable']['StandingLists']['0']['DriverStandings']"
   ]
  },
  {
   "cell_type": "code",
   "execution_count": null,
   "id": "be46a950",
   "metadata": {},
   "outputs": [],
   "source": [
    "def get_top10(data):\n",
    "    new_data = []\n",
    "    for d in data:\n",
    "        driver = {}\n",
    "        d_name = d['Driver']['familyName']\n",
    "        \n",
    "        driver[d_name] = {\n",
    "            'first_name':d['Driver']['givenName'],\n",
    "            'last_name':d['Driver']['familyName'],\n",
    "            'position': d['position'],\n",
    "            'nationality': d['Driver']['nationality'],\n",
    "            'team': d['constructors'][0]['constructorId']\n",
    "        }\n",
    "        new_date.append(driver)\n",
    "    return new_data"
   ]
  },
  {
   "cell_type": "code",
   "execution_count": null,
   "id": "3740c752",
   "metadata": {},
   "outputs": [],
   "source": [
    "http://ergast.com/api/f1/2008/5/results.json"
   ]
  },
  {
   "cell_type": "code",
   "execution_count": null,
   "id": "a715d2ac",
   "metadata": {},
   "outputs": [],
   "source": [
    "def driver_results(year, round):\n",
    "    url = f'http://ergast.com/api/f1/{year}/{round}/results.json'\n",
    "    response = requests.get(url)\n",
    "    data = response.json()['MRData']['RaceTable']['Races'][0]['Results']\n",
    "    for d in data:\n",
    "        print(f\"finishing in pos {d['position']} is {d['Driver']['driverId']}\")"
   ]
  },
  {
   "cell_type": "code",
   "execution_count": null,
   "id": "87457d16",
   "metadata": {},
   "outputs": [],
   "source": [
    "driver_results(2013, 7)"
   ]
  },
  {
   "cell_type": "markdown",
   "id": "6d546014",
   "metadata": {},
   "source": [
    "# <strong>Homework</strong>\n",
    "check out this Pokemon API https://pokeapi.co/\n",
    "Use the requests package to connect to this API and get and store data for 5 different pokemon.\n",
    "Get the pokemons: name, atleast one ability's name, base_experience, and the URL for its sprite (an image that shows up on screen) for the 'front_shiny', attack base_state, hp base_stat, defense base_stat"
   ]
  },
  {
   "cell_type": "code",
   "execution_count": 8,
   "id": "5a9081e3",
   "metadata": {},
   "outputs": [
    {
     "name": "stdout",
     "output_type": "stream",
     "text": [
      "['Name: Arcanine Ability: Intimidate Experience: 194 Sprite: https://raw.githubusercontent.com/PokeAPI/sprites/master/sprites/pokemon/shiny/59.png Health: 90 Attack: 110 Defense: 80', 'Name: Gyarados Ability: Intimidate Experience: 189 Sprite: https://raw.githubusercontent.com/PokeAPI/sprites/master/sprites/pokemon/shiny/130.png Health: 95 Attack: 125 Defense: 79', 'Name: Snorlax Ability: Immunity Experience: 189 Sprite: https://raw.githubusercontent.com/PokeAPI/sprites/master/sprites/pokemon/shiny/143.png Health: 160 Attack: 110 Defense: 65', 'Name: Gengar Ability: Cursed-Body Experience: 250 Sprite: https://raw.githubusercontent.com/PokeAPI/sprites/master/sprites/pokemon/shiny/94.png Health: 60 Attack: 65 Defense: 60', 'Name: Pidgeot Ability: Keen-Eye Experience: 216 Sprite: https://raw.githubusercontent.com/PokeAPI/sprites/master/sprites/pokemon/shiny/18.png Health: 83 Attack: 80 Defense: 75', 'Name: Rhydon Ability: Lightning-Rod Experience: 170 Sprite: https://raw.githubusercontent.com/PokeAPI/sprites/master/sprites/pokemon/shiny/112.png Health: 105 Attack: 130 Defense: 120']\n"
     ]
    }
   ],
   "source": [
    "import requests, json\n",
    "\n",
    "\n",
    "# def pokemon(mon): # Individual pokemon call out\n",
    "#     url = (f\"https://pokeapi.co/api/v2/pokemon/{mon}\") # API source\n",
    "#     response = requests.get(url) # Using imported function\n",
    "#     d = response.json() # converting to json\n",
    "#     print(f\"Pokemon: {d['forms'][0]['name']}\"\n",
    "#          f\"\\nAbility: {d['abilities'][0]['ability']['name']}\"\n",
    "#          f\"\\nExperience: {d['base_experience']}\"\n",
    "#          f\"\\nSprite: {d['sprites']['front_shiny']}\"\n",
    "#          f\"\\nHealth: {d['stats'][0]['base_stat']}\"\n",
    "#          f\"\\nAttack: {d['stats'][1]['base_stat']}\"\n",
    "#          f\"\\nDefense: {d['stats'][2]['base_stat']}\")\n",
    "                \n",
    "# pokemon(\"arcanine\")\n",
    "\n",
    "p_list = (\"arcanine\", \"gyarados\", \"snorlax\", \"gengar\", \"pidgeot\", \"rhydon\")\n",
    "\n",
    "# Just prints out info\n",
    "# def pokemon_r(roster): # Individual pokemon call out\n",
    "#     for i in roster:\n",
    "#         url = (f\"https://pokeapi.co/api/v2/pokemon/{i}\") # API source\n",
    "#         response = requests.get(url) # Using imported function\n",
    "#         d = response.json() # converting to json\n",
    "#         print(f\"Pokemon: {d['forms'][0]['name'].title()}\"\n",
    "#              f\"\\nAbility: {d['abilities'][0]['ability']['name'].title()}\"\n",
    "#              f\"\\nExperience: {d['base_experience']}\"\n",
    "#              f\"\\nSprite: {d['sprites']['front_shiny']}\"\n",
    "#              f\"\\nHealth: {d['stats'][0]['base_stat']}\"\n",
    "#              f\"\\nAttack: {d['stats'][1]['base_stat']}\"\n",
    "#              f\"\\nDefense: {d['stats'][2]['base_stat']}\\n\")\n",
    "    \n",
    "# pokemon_r(p_list)\n",
    "\n",
    "def pokemon_r(roster): # Individual pokemon call out\n",
    "    poke = []\n",
    "    for i in roster:\n",
    "        url = (f\"https://pokeapi.co/api/v2/pokemon/{i}\") # API source\n",
    "        response = requests.get(url) # Using imported function\n",
    "        d = response.json() # converting to json\n",
    "        poke.append(f\"Name: {d['forms'][0]['name'].title()} Ability: {d['abilities'][0]['ability']['name'].title()} Experience: {d['base_experience']} Sprite: {d['sprites']['front_shiny']} Health: {d['stats'][0]['base_stat']} Attack: {d['stats'][1]['base_stat']} Defense: {d['stats'][2]['base_stat']}\")\n",
    "    return poke\n",
    "\n",
    "print(pokemon_r(p_list))"
   ]
  }
 ],
 "metadata": {
  "kernelspec": {
   "display_name": "Python 3 (ipykernel)",
   "language": "python",
   "name": "python3"
  },
  "language_info": {
   "codemirror_mode": {
    "name": "ipython",
    "version": 3
   },
   "file_extension": ".py",
   "mimetype": "text/x-python",
   "name": "python",
   "nbconvert_exporter": "python",
   "pygments_lexer": "ipython3",
   "version": "3.9.13"
  }
 },
 "nbformat": 4,
 "nbformat_minor": 5
}
